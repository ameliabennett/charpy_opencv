{
 "cells": [
  {
   "cell_type": "code",
   "execution_count": 14,
   "metadata": {},
   "outputs": [],
   "source": [
    "import numpy as np\n",
    "import cv2\n",
    "import random\n",
    "\n",
    "img = np.zeros((512,512,3), np.uint8)"
   ]
  },
  {
   "cell_type": "code",
   "execution_count": 29,
   "metadata": {},
   "outputs": [],
   "source": [
    "import numpy as np\n",
    "import cv2\n",
    "import random\n",
    "\n",
    "img = np.zeros((512,512,3), np.uint8)"
   ]
  },
  {
   "cell_type": "code",
   "execution_count": null,
   "metadata": {},
   "outputs": [],
   "source": []
  },
  {
   "cell_type": "code",
   "execution_count": null,
   "metadata": {},
   "outputs": [],
   "source": []
  },
  {
   "cell_type": "code",
   "execution_count": 19,
   "metadata": {},
   "outputs": [
    {
     "data": {
      "text/plain": [
       "(512, 512, 3)"
      ]
     },
     "execution_count": 19,
     "metadata": {},
     "output_type": "execute_result"
    }
   ],
   "source": [
    "img.shape"
   ]
  },
  {
   "cell_type": "code",
   "execution_count": 16,
   "metadata": {},
   "outputs": [
    {
     "data": {
      "text/plain": [
       "-1"
      ]
     },
     "execution_count": 16,
     "metadata": {},
     "output_type": "execute_result"
    }
   ],
   "source": [
    "cv2.imshow(\"testing_again\", img)\n",
    "cv2.waitKey(0)"
   ]
  },
  {
   "cell_type": "code",
   "execution_count": 22,
   "metadata": {},
   "outputs": [],
   "source": [
    "dummy_var = 256"
   ]
  },
  {
   "cell_type": "code",
   "execution_count": null,
   "metadata": {},
   "outputs": [],
   "source": [
    "cv2.line(img,(511,dummy_var),(0,511),(255,255,255),5)\n",
    "cv2.imshow(\"testing_again\", img)\n",
    "cv2.waitKey(0)"
   ]
  },
  {
   "cell_type": "code",
   "execution_count": 12,
   "metadata": {},
   "outputs": [
    {
     "data": {
      "text/plain": [
       "-1"
      ]
     },
     "execution_count": 12,
     "metadata": {},
     "output_type": "execute_result"
    }
   ],
   "source": [
    "font = cv2.FONT_HERSHEY_SIMPLEX\n",
    "cv2.putText(img,'Amy was here!',(10,500), font, 2,(255,255,255),2,cv2.LINE_AA)\n",
    "cv2.imshow(\"testing_again\", img)\n",
    "cv2.waitKey(0)"
   ]
  },
  {
   "cell_type": "code",
   "execution_count": 2,
   "metadata": {},
   "outputs": [],
   "source": [
    "def randomcolor():\n",
    "    color = (random.randint(0,255),random.randint(0,255),random.randint(0,255))\n",
    "    return color"
   ]
  },
  {
   "cell_type": "code",
   "execution_count": 24,
   "metadata": {},
   "outputs": [],
   "source": [
    "def quadrilateral_gen():\n",
    "    brightness = random.randint(0,255)\n",
    "    img = np.ones((120,160,3), np.uint8)*brightness\n",
    "    \n",
    "    a = (random.randint(0,145),random.randint(0,105))\n",
    "    b = (random.randint(a[0]+10,159),random.randint(0,105))\n",
    "    c = (random.randint(a[0]+10,159),random.randint(a[1],119))\n",
    "    d = (random.randint(0,c[0]),random.randint(a[1],119))\n",
    "\n",
    "    pts = np.array([a,b,c,d], np.int32)\n",
    "    cornerpts = (a,b,c,d)\n",
    "    pts = pts.reshape((-1,1,2))\n",
    "    cv2.polylines(img,[pts],True,randomcolor())\n",
    "    img = cv2.cvtColor( img, cv2.COLOR_RGB2GRAY )\n",
    "    \n",
    "    cornerimg = np.zeros((120,160,1), np.uint8)\n",
    "    for point in pts:\n",
    "        cornerimg[point[0][1],point[0][0]] = 1\n",
    "    \n",
    "    img = np.reshape(img,(120,160,1))\n",
    "    \n",
    "    return img, cornerimg"
   ]
  },
  {
   "cell_type": "code",
   "execution_count": 27,
   "metadata": {},
   "outputs": [
    {
     "name": "stdout",
     "output_type": "stream",
     "text": [
      "(120, 160, 1)\n",
      "(120, 160, 1)\n"
     ]
    }
   ],
   "source": [
    "dummy, cornerdummy = quadrilateral_gen()\n",
    "print(dummy.shape)\n",
    "print(cornerdummy.shape)"
   ]
  },
  {
   "cell_type": "code",
   "execution_count": 28,
   "metadata": {},
   "outputs": [
    {
     "data": {
      "text/plain": [
       "-1"
      ]
     },
     "execution_count": 28,
     "metadata": {},
     "output_type": "execute_result"
    }
   ],
   "source": [
    "test_img, _ = quadrilateral_gen()\n",
    "cv2.imshow(\"testing_again\", test_img)\n",
    "cv2.waitKey(0)"
   ]
  },
  {
   "cell_type": "code",
   "execution_count": 30,
   "metadata": {
    "collapsed": true
   },
   "outputs": [],
   "source": [
    "def triangle_gen():\n",
    "    brightness = random.randint(0,255)\n",
    "    img = np.ones((120,160,3), np.uint8)*brightness\n",
    "    \n",
    "    a = (random.randint(0,160),random.randint(0,120))\n",
    "    b = (random.randint(0,160),random.randint(0,120))\n",
    "    c = (random.randint(0,160),random.randint(0,120))\n",
    "\n",
    "    pts = np.array([a,b,c], np.int32)\n",
    "    cornerpts = (a,b,c)\n",
    "    pts = pts.reshape((-1,1,2))\n",
    "    cv2.polylines(img,[pts],True,randomcolor())\n",
    "    img = cv2.cvtColor( img, cv2.COLOR_RGB2GRAY )\n",
    "    cornerimg = np.zeros((120,160,1), np.uint8)\n",
    "    for point in pts:\n",
    "        cornerimg[point[0][1],point[0][0]] = 1\n",
    "    \n",
    "    return img, cornerimg"
   ]
  },
  {
   "cell_type": "code",
   "execution_count": 30,
   "metadata": {
    "collapsed": true
   },
   "outputs": [],
   "source": [
    "# line\n",
    "def line_gen():\n",
    "    brightness = random.randint(0,255)\n",
    "    img = np.ones((120,160,3), np.uint8)*brightness\n",
    "\n",
    "    a = (random.randint(0,159),random.randint(0,119))\n",
    "    b = (random.randint(0,159),random.randint(0,119))\n",
    "    \n",
    "    pts = np.array([a,b], np.int32)\n",
    "    cornerpts = (a,b)\n",
    "    pts = pts.reshape((-1,1,2))\n",
    "    cv2.line(img,a,b,randomcolor())\n",
    "    img = cv2.cvtColor( img, cv2.COLOR_RGB2GRAY )\n",
    "    cornerimg = np.zeros((120,160,1), np.uint8)\n",
    "    for point in pts:\n",
    "        cornerimg[point[0][1],point[0][0]] = 1\n",
    "    img = np.reshape(img,(120,160,1))\n",
    "    return img, cornerimg"
   ]
  },
  {
   "cell_type": "code",
   "execution_count": 19,
   "metadata": {
    "collapsed": true
   },
   "outputs": [],
   "source": [
    "# stars\n",
    "# generate images of size 120x160\n",
    "# \n",
    "def star_gen():\n",
    "    brightness = random.randint(0,255)\n",
    "    img = np.ones((120,160,3), np.uint8)*brightness\n",
    "\n",
    "    centerpt = (random.randint(0,120),random.randint(0,160))\n",
    "    a = (random.randint(0,120),random.randint(0,160))\n",
    "    b = (random.randint(0,120),random.randint(0,160))\n",
    "    c = (random.randint(0,120),random.randint(0,160))\n",
    "    d = (random.randint(0,120),random.randint(0,160))\n",
    "    e = (random.randint(0,120),random.randint(0,160))\n",
    "\n",
    "    cornerpts = (centerpt,a,b,c,d,e)\n",
    "    \n",
    "    cv2.line(img,centerpt,a,randomcolor())\n",
    "    cv2.line(img,centerpt,b,randomcolor())\n",
    "    cv2.line(img,centerpt,c,randomcolor())\n",
    "    cv2.line(img,centerpt,d,randomcolor())\n",
    "    cv2.line(img,centerpt,e,randomcolor())\n",
    "    img = cv2.cvtColor( img, cv2.COLOR_RGB2GRAY )\n",
    "    cornerimg = np.zeros((120,160,1), np.uint8)\n",
    "    for point in cornerpts:\n",
    "        cornerimg[point] = 1\n",
    "    \n",
    "    return img, cornerimg"
   ]
  },
  {
   "cell_type": "code",
   "execution_count": 20,
   "metadata": {
    "collapsed": true
   },
   "outputs": [],
   "source": [
    "# ellipses\n",
    "\n",
    "def ellipse_gen():\n",
    "    brightness = random.randint(0,255)\n",
    "    img = np.ones((120,160,3), np.uint8)*brightness\n",
    "\n",
    "    centerpt = (random.randint(10,110),random.randint(10,150))\n",
    "    major_axis = random.randint(1,round((120-centerpt[0])/2))\n",
    "    minor_axis = random.randint(1,major_axis)\n",
    "    axes = (major_axis,minor_axis)\n",
    "\n",
    "    angle = (random.randint(0,360))\n",
    "    cornerpts = None\n",
    "\n",
    "    cv2.ellipse(img,centerpt,axes,angle,0,360,randomcolor(),random.randint(1,3))\n",
    "    img = cv2.cvtColor( img, cv2.COLOR_RGB2GRAY )\n",
    "    cornerimg = np.zeros((120,160,1), np.uint8)\n",
    "    \n",
    "    return img, cornerimg"
   ]
  },
  {
   "cell_type": "code",
   "execution_count": 1,
   "metadata": {},
   "outputs": [
    {
     "ename": "SyntaxError",
     "evalue": "invalid syntax (<ipython-input-1-bb790680d046>, line 11)",
     "output_type": "error",
     "traceback": [
      "\u001b[0;36m  File \u001b[0;32m\"<ipython-input-1-bb790680d046>\"\u001b[0;36m, line \u001b[0;32m11\u001b[0m\n\u001b[0;31m    img =\u001b[0m\n\u001b[0m          ^\u001b[0m\n\u001b[0;31mSyntaxError\u001b[0m\u001b[0;31m:\u001b[0m invalid syntax\n"
     ]
    }
   ],
   "source": [
    "# checkerboards\n",
    "import numpy as np\n",
    "\n",
    "def build_checkerboard(w,h,spacer):\n",
    "    even_rows = np.ndarray.flatten(np.r_[ w*[np.zeros(spacer),np.ones(spacer)] ])\n",
    "    odd_rows = np.ndarray.flatten(np.r_[ w*[np.ones(spacer),np.zeros(spacer)] ])\n",
    "    return np.row_stack(h*((np.array([even_rows]*spacer)), (np.array([odd_rows]*spacer))))\n",
    "\n",
    "def checkerboard_gen():\n",
    "    \n",
    "    \n",
    "    \n",
    "    return img, cornerpts\n",
    "\n",
    "checkerboard = build_checkerboard(4,4,16)\n",
    "checkerboard\n",
    "img = cv2.cvtColor( img, cv2.COLOR_RGB2GRAY )\n",
    "cv2.imshow('checkerboard',checkerboard)\n",
    "cv2.waitKey(0)\n"
   ]
  },
  {
   "cell_type": "code",
   "execution_count": 21,
   "metadata": {
    "collapsed": true
   },
   "outputs": [],
   "source": [
    "# cubes\n",
    "# in the paper, these are just three connected quadrilaterals\n",
    "\n",
    "def cube_gen():\n",
    "    brightness = random.randint(0,255)\n",
    "    img = np.ones((120,160,3), np.uint8)*brightness\n",
    "\n",
    "    c = [random.randint(0,115),random.randint(0,120)]\n",
    "    a = [random.randint(c[0]+10,130),random.randint(0,75)]\n",
    "    c[1] = random.randint(a[1],90)\n",
    "    d = [random.randint(a[0]+10,145),c[1]]\n",
    "    b = [random.randint(d[0]+10,160),a[1]]\n",
    "    g = [b[0],random.randint(c[1],105)]\n",
    "    e = [c[0],random.randint(g[1],120)]\n",
    "    f = [d[0],e[1]]\n",
    "    a = tuple(a)\n",
    "    b = tuple(b)\n",
    "    c = tuple(c)\n",
    "    d = tuple(d)\n",
    "    e = tuple(e)\n",
    "    f = tuple(f)\n",
    "    g = tuple(g)\n",
    "\n",
    "    pts = np.array([b,a,c,d,b,g,f,d,c,e,f,d], np.int32)\n",
    "    pts = pts.reshape((-1,1,2))\n",
    "    cornerpts = (a,b,c,d,e,f,g)\n",
    "    cv2.polylines(img,[pts],False,randomcolor())\n",
    "    img = cv2.cvtColor( img, cv2.COLOR_RGB2GRAY )\n",
    "    cornerimg = np.zeros((120,160,1), np.uint8)\n",
    "    for point in cornerpts:\n",
    "        cornerimg[point] = 1\n",
    "    \n",
    "    return img, cornerimg"
   ]
  },
  {
   "cell_type": "code",
   "execution_count": 23,
   "metadata": {
    "collapsed": true
   },
   "outputs": [],
   "source": [
    "# random noise\n",
    "def random_gen():\n",
    "    img = np.random.rand(120,160)*255\n",
    "    cornerpts = None\n",
    "    cornerimg = np.zeros((120,160,1), np.uint8)\n",
    "    \n",
    "    return img, cornerimg"
   ]
  },
  {
   "cell_type": "code",
   "execution_count": null,
   "metadata": {
    "collapsed": true
   },
   "outputs": [],
   "source": []
  }
 ],
 "metadata": {
  "kernelspec": {
   "display_name": "Python 3",
   "language": "python",
   "name": "python3"
  },
  "language_info": {
   "codemirror_mode": {
    "name": "ipython",
    "version": 3
   },
   "file_extension": ".py",
   "mimetype": "text/x-python",
   "name": "python",
   "nbconvert_exporter": "python",
   "pygments_lexer": "ipython3",
   "version": "3.6.5"
  }
 },
 "nbformat": 4,
 "nbformat_minor": 2
}
